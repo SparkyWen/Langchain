{
 "cells": [
  {
   "cell_type": "markdown",
   "id": "8e0ed6ab",
   "metadata": {},
   "source": [
    "# 1. prompttemplate 使用"
   ]
  },
  {
   "cell_type": "code",
   "execution_count": null,
   "id": "8e2f80df",
   "metadata": {},
   "outputs": [],
   "source": [
    "# 1. 如何获取实例\n",
    "# 2. 两种特殊结构的使用：部分提示词和组合提示词\n",
    "# 3. 变量赋值的两种方式 format()/ invoke()\n",
    "# 4. 结合大模型使用"
   ]
  },
  {
   "cell_type": "markdown",
   "id": "9940c820",
   "metadata": {},
   "source": [
    "### 1. 两种方式如何获取实例"
   ]
  },
  {
   "cell_type": "code",
   "execution_count": null,
   "id": "6743f600",
   "metadata": {},
   "outputs": [
    {
     "name": "stdout",
     "output_type": "stream",
     "text": [
      "你是一个人工智能专家,你的名字叫小文\n"
     ]
    }
   ],
   "source": [
    "# 1. 使用构造方法获取实例\n",
    "from langchain_core.prompts import PromptTemplate\n",
    "\n",
    "# 第一步创建实例\n",
    "prompt_template = PromptTemplate(\n",
    "    template=\"你是一个{role},你的名字叫{name}\",\n",
    "    input_variables=[\"role\",\"name\"],\n",
    ")\n",
    "\n",
    "# print(prompt_template)\n",
    "\n",
    "# 第二步填充实例的变量，暂且用format()\n",
    "prompt = prompt_template.format(role=\"人工智能专家\",name=\"小文\")\n",
    "print(prompt)"
   ]
  },
  {
   "cell_type": "code",
   "execution_count": 3,
   "id": "c35b9caa",
   "metadata": {},
   "outputs": [
    {
     "name": "stdout",
     "output_type": "stream",
     "text": [
      "提示词1: 请评价智能手机的优缺点，包括电池续航和拍照质量。\n",
      "提示词2: 请评价笔记本电脑的优缺点，包括处理速度和便携性。\n"
     ]
    }
   ],
   "source": [
    "from langchain.prompts import PromptTemplate\n",
    "\n",
    "#定义多变量模板\n",
    "template = PromptTemplate(\n",
    "    template=\"请评价{product}的优缺点，包括{aspect1}和{aspect2}。\",\n",
    "    input_variables=[\"product\", \"aspect1\", \"aspect2\"])\n",
    "\n",
    "#使用模板生成提示词\n",
    "prompt_1 = template.format(product=\"智能手机\", aspect1=\"电池续航\", aspect2=\"拍照质量\")\n",
    "prompt_2 = template.format(product=\"笔记本电脑\", aspect1=\"处理速度\", aspect2=\"便携性\")\n",
    "\n",
    "print(\"提示词1:\",prompt_1)\n",
    "print(\"提示词2:\",prompt_2)"
   ]
  },
  {
   "cell_type": "code",
   "execution_count": 4,
   "id": "d5154626",
   "metadata": {},
   "outputs": [
    {
     "name": "stdout",
     "output_type": "stream",
     "text": [
      "你是一个人工智能专家,你的名字叫小文\n"
     ]
    }
   ],
   "source": [
    "# 2. from_template() 方法获取实例，推荐\n",
    "# prompt_template = PromptTemplate(\n",
    "#     template=\"你是一个{role},你的名字叫{name}\",\n",
    "#     input_variables=[\"role\",\"name\"],\n",
    "# )\n",
    "from langchain.prompts import PromptTemplate\n",
    "\n",
    "prompt_template = PromptTemplate.from_template(\"你是一个{role},你的名字叫{name}\")\n",
    "\n",
    "prompt = prompt_template.format(role=\"人工智能专家\",name=\"小文\")\n",
    "\n",
    "print(prompt)\n"
   ]
  },
  {
   "cell_type": "code",
   "execution_count": 5,
   "id": "035f57df",
   "metadata": {},
   "outputs": [
    {
     "name": "stdout",
     "output_type": "stream",
     "text": [
      "提示词1: 请评价智能手机的优缺点，包括电池续航和拍照质量。\n",
      "提示词2: 请评价笔记本电脑的优缺点，包括处理速度和便携性。\n"
     ]
    }
   ],
   "source": [
    "from langchain.prompts import PromptTemplate\n",
    "\n",
    "#定义多变量模板\n",
    "template = PromptTemplate.from_template(\"请评价{product}的优缺点，包括{aspect1}和{aspect2}。\")\n",
    "\n",
    "#使用模板生成提示词\n",
    "prompt_1 = template.format(product=\"智能手机\", aspect1=\"电池续航\", aspect2=\"拍照质量\")\n",
    "prompt_2 = template.format(product=\"笔记本电脑\", aspect1=\"处理速度\", aspect2=\"便携性\")\n",
    "\n",
    "print(\"提示词1:\",prompt_1)\n",
    "print(\"提示词2:\",prompt_2)"
   ]
  },
  {
   "cell_type": "markdown",
   "id": "b7ac22d0",
   "metadata": {},
   "source": [
    "# 2. 两种特殊结构的使用"
   ]
  },
  {
   "cell_type": "code",
   "execution_count": null,
   "id": "97fd910a",
   "metadata": {},
   "outputs": [],
   "source": [
    "# 1. 通过 partial_variables 这个变量自定义\n",
    "from langchain.prompts import PromptTemplate\n",
    "\n",
    "#定义多变量模板\n",
    "template = PromptTemplate.from_template(\n",
    "    template=\"请评价{product}的优缺点，包括{aspect1}和{aspect2}。\",\n",
    "    partial_variables={\"aspect1\":\"电池续航\"}\n",
    ")\n",
    "\n",
    "#使用模板生成提示词\n",
    "prompt_1 = template.format(product=\"智能手机\",aspect2=\"拍照质量\")\n",
    "\n",
    "print(prompt_1)"
   ]
  },
  {
   "cell_type": "code",
   "execution_count": null,
   "id": "b9a67102",
   "metadata": {},
   "outputs": [],
   "source": [
    "from langchain.prompts import PromptTemplate\n",
    "\n",
    "#定义多变量模板\n",
    "template = PromptTemplate(\n",
    "    template=\"请评价{product}的优缺点，包括{aspect1}和{aspect2}。\",\n",
    "    input_variables=[\"product\", \"aspect1\", \"aspect2\"],\n",
    "    partial_variables={\"aspect1\":\"电池续航\",\"aspect2\":\"拍照质量\"}\n",
    ")\n",
    "\n",
    "#使用模板生成提示词\n",
    "prompt_1 = template.format(product=\"智能手机\")\n",
    "\n",
    "print(\"提示词1:\",prompt_1)"
   ]
  },
  {
   "cell_type": "code",
   "execution_count": 7,
   "id": "fc6d6306",
   "metadata": {},
   "outputs": [
    {
     "name": "stdout",
     "output_type": "stream",
     "text": [
      "提示词1: 请评价智能飞机的优缺点，包括电池续航和拍照质量。\n"
     ]
    }
   ],
   "source": [
    "# 2. 通过方法 partial()\n",
    "from langchain.prompts import PromptTemplate\n",
    "\n",
    "#定义多变量模板\n",
    "template = PromptTemplate(\n",
    "    template=\"请评价{product}的优缺点，包括{aspect1}和{aspect2}。\",\n",
    "    input_variables=[\"product\", \"aspect1\", \"aspect2\"],\n",
    "    # partial_variables={\"aspect1\":\"电池续航\",\"aspect2\":\"拍照质量\"}\n",
    ")\n",
    "\n",
    "# template.partial(aspect1=\"电池续航\",aspect2=\"拍照质量\")\n",
    "# 这里报错的原因是因为，模板需要重新赋值，而不是在原有模板上修改，不会对原有模板造成影响\n",
    "template1 = template.partial(aspect1=\"电池续航\",aspect2=\"拍照质量\")\n",
    "\n",
    "#使用模板生成提示词\n",
    "template1 = template1.format(product=\"智能飞机\")\n",
    "\n",
    "print(\"提示词1:\",template1)\n"
   ]
  },
  {
   "cell_type": "code",
   "execution_count": null,
   "id": "ef4ada09",
   "metadata": {},
   "outputs": [],
   "source": [
    "from langchain.prompts import PromptTemplate\n",
    "\n",
    "#定义多变量模板\n",
    "template = (PromptTemplate\n",
    "            .from_template(template=\"请评价{product}的优缺点，包括{aspect1}和{aspect2}。\")\n",
    "            .partial(aspect1=\"电池续航\",aspect2=\"拍照质量\"))\n",
    "\n",
    "#使用模板生成提示词\n",
    "prompt_1 = template.format(product=\"智能手机\")\n",
    "\n",
    "print(\"提示词1:\",prompt_1)"
   ]
  },
  {
   "cell_type": "code",
   "execution_count": null,
   "id": "cd4cd3b5",
   "metadata": {},
   "outputs": [],
   "source": [
    "# 组合提示词的使用,了解即可\n",
    "from langchain_core.prompts import PromptTemplate\n",
    "\n",
    "template = (\n",
    "    PromptTemplate.from_template(template = \"Tell me a joke about {topic}\")\n",
    "    + \", make it funny\"\n",
    "    + \"\\n\\nand in {language}\"\n",
    ")\n",
    "\n",
    "prompt = template.format(topic=\"sports\", language=\"spanish\")\n",
    "print(prompt)"
   ]
  },
  {
   "cell_type": "markdown",
   "id": "5d9a6cf7",
   "metadata": {},
   "source": [
    "# 3. 变量赋值的两种方式 format()/ invoke()"
   ]
  },
  {
   "cell_type": "code",
   "execution_count": 8,
   "id": "d3460373",
   "metadata": {},
   "outputs": [
    {
     "name": "stdout",
     "output_type": "stream",
     "text": [
      "请评价智能手机的优缺点，包括电池续航和拍照质量。\n",
      "<class 'str'>\n"
     ]
    }
   ],
   "source": [
    "from langchain.prompts import PromptTemplate\n",
    "\n",
    "#定义多变量模板\n",
    "template = PromptTemplate.from_template(\n",
    "    template=\"请评价{product}的优缺点，包括{aspect1}和{aspect2}。\")\n",
    "\n",
    "#使用模板生成提示词\n",
    "prompt_1 = template.format(product=\"智能手机\", aspect1=\"电池续航\", aspect2=\"拍照质量\")\n",
    "\n",
    "print(prompt_1)\n",
    "print(type(prompt_1))"
   ]
  },
  {
   "cell_type": "code",
   "execution_count": 9,
   "id": "376be63d",
   "metadata": {},
   "outputs": [
    {
     "name": "stdout",
     "output_type": "stream",
     "text": [
      "text='请评价智能手机的优缺点，包括电池续航和拍照质量。'\n",
      "<class 'langchain_core.prompt_values.StringPromptValue'>\n"
     ]
    }
   ],
   "source": [
    "from langchain.prompts import PromptTemplate\n",
    "\n",
    "#定义多变量模板\n",
    "template = PromptTemplate.from_template(\n",
    "    template=\"请评价{product}的优缺点，包括{aspect1}和{aspect2}。\")\n",
    "\n",
    "#使用模板生成提示词\n",
    "# prompt_1 = template.format(product=\"智能手机\", aspect1=\"电池续航\", aspect2=\"拍照质量\")\n",
    "prompt_1 = template.invoke(input={\"product\":\"智能手机\",\"aspect1\":\"电池续航\",\"aspect2\":\"拍照质量\"})\n",
    "\n",
    "print(prompt_1)\n",
    "print(type(prompt_1))  #返回值类型：PromptValue"
   ]
  },
  {
   "cell_type": "markdown",
   "id": "ebb5f88c",
   "metadata": {},
   "source": [
    "# 4. 结合大模型使用"
   ]
  },
  {
   "cell_type": "code",
   "execution_count": 11,
   "id": "88e78d20",
   "metadata": {},
   "outputs": [
    {
     "name": "stdout",
     "output_type": "stream",
     "text": [
      "content='智能手机的优缺点可以从多个角度进行评估，包括电池续航、拍照质量、便携性、功能多样性等。以下是一些主要的优缺点：\\n\\n### 优点：\\n\\n1. **便携性**：智能手机小巧轻便，易于携带，能够随时随地使用。\\n  \\n2. **多功能性**：除了打电话和发短信，智能手机还集成了互联网浏览、社交媒体、电子邮件、导航、游戏、办公软件等多种功能。\\n\\n3. **拍照质量**：现代智能手机配备了高质量的摄像头，许多手机支持高像素、夜景模式、广角拍摄等功能，能够拍摄出优秀的照片，满足日常生活中的拍照需求。\\n\\n4. **应用生态**：智能手机支持丰富的应用程序，用户可以根据个人需求下载不同的应用，提升生活和工作的便利性。\\n\\n5. **连接性**：智能手机能够快速连接Wi-Fi、蓝牙等网络，方便用户进行信息交流和文件传输。\\n\\n### 缺点：\\n\\n1. **电池续航**：虽然一些高端智能手机的电池续航表现较好，但由于大屏幕、高性能处理器和多功能应用的使用，很多智能手机的电池续航依然是一个问题。频繁充电可能会影响用户体验。\\n\\n2. **价格**：高端智能手机的价格通常较高，普通消费者可能需要投入较多资金才能购买到性能优越的设备。\\n\\n3. **使用习惯**：智能手机的普及使得人们更依赖于电子设备，可能会导致注意力分散、社交障碍等问题。\\n\\n4. **安全性问题**：智能手机存储了大量个人信息，如联系人、照片和银行信息，如果未能妥善保护，可能面临隐私泄露和安全风险。\\n\\n5. **维修和升级**：一些智能手机的维修成本较高，且在使用一段时间后，可能面临软件更新支持不足或硬件老化的问题。\\n\\n总体而言，智能手机作为现代生活中不可或缺的工具，提供了许多便利和功能，但在电池续航、价格和安全性等方面依然存在一些挑战。选择时需要根据个人的需求和使用习惯进行权衡。' additional_kwargs={'refusal': None} response_metadata={'token_usage': {'completion_tokens': 513, 'prompt_tokens': 25, 'total_tokens': 538, 'completion_tokens_details': {'accepted_prediction_tokens': 0, 'audio_tokens': 0, 'reasoning_tokens': 0, 'rejected_prediction_tokens': 0}, 'prompt_tokens_details': {'audio_tokens': 0, 'cached_tokens': 0}}, 'model_name': 'gpt-4o-mini-2024-07-18', 'system_fingerprint': 'fp_560af6e559', 'finish_reason': 'stop', 'logprobs': None} id='run--c4e58e5f-c87d-49af-a388-296b2711e292-0' usage_metadata={'input_tokens': 25, 'output_tokens': 513, 'total_tokens': 538, 'input_token_details': {'audio': 0, 'cache_read': 0}, 'output_token_details': {'audio': 0, 'reasoning': 0}}\n",
      "<class 'langchain_core.messages.ai.AIMessage'>\n"
     ]
    }
   ],
   "source": [
    "from langchain_openai import ChatOpenAI\n",
    "import os\n",
    "import dotenv\n",
    "\n",
    "dotenv.load_dotenv()\n",
    "\n",
    "os.environ[\"OPENAI_API_KEY\"] = os.getenv(\"OPENAI_API_KEY\")\n",
    "\n",
    "\n",
    "# 获取对话模型\n",
    "chat_model = ChatOpenAI(\n",
    "    temperature=0.7,\n",
    "    model_name=\"gpt-4o-mini\"\n",
    ")\n",
    "\n",
    "# 生成提示词模板\n",
    "template = PromptTemplate.from_template(\n",
    "  template='请评价{product}的优缺点，包括{aspect1}和{aspect2}。'\n",
    ")\n",
    "\n",
    "# 给模板赋值\n",
    "prompt = template.invoke(input={\"product\":\"智能手机\",\"aspect1\":\"电池续航\",\"aspect2\":\"拍照质量\"})\n",
    "\n",
    "# 调用大模型，传入提示词\n",
    "response = chat_model.invoke(prompt)\n",
    "print(response)\n",
    "print(type(response))"
   ]
  },
  {
   "cell_type": "code",
   "execution_count": null,
   "id": "97bef577",
   "metadata": {},
   "outputs": [],
   "source": []
  },
  {
   "cell_type": "code",
   "execution_count": null,
   "id": "a55bc7bf",
   "metadata": {},
   "outputs": [],
   "source": []
  },
  {
   "cell_type": "code",
   "execution_count": null,
   "id": "85b9cc8f",
   "metadata": {},
   "outputs": [],
   "source": []
  },
  {
   "cell_type": "code",
   "execution_count": null,
   "id": "39dbf301",
   "metadata": {},
   "outputs": [],
   "source": []
  }
 ],
 "metadata": {
  "kernelspec": {
   "display_name": "wen",
   "language": "python",
   "name": "python3"
  },
  "language_info": {
   "codemirror_mode": {
    "name": "ipython",
    "version": 3
   },
   "file_extension": ".py",
   "mimetype": "text/x-python",
   "name": "python",
   "nbconvert_exporter": "python",
   "pygments_lexer": "ipython3",
   "version": "3.12.9"
  }
 },
 "nbformat": 4,
 "nbformat_minor": 5
}
