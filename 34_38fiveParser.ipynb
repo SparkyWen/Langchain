{
 "cells": [
  {
   "cell_type": "markdown",
   "id": "1530b841",
   "metadata": {},
   "source": [
    "# 1. StrOutParser"
   ]
  },
  {
   "cell_type": "code",
   "execution_count": 1,
   "id": "9f2c3cc3",
   "metadata": {},
   "outputs": [
    {
     "name": "stdout",
     "output_type": "stream",
     "text": [
      "<class 'str'>\n",
      "大语言模型（Large Language Model，LLM）是一种基于深度学习的自然语言处理模型，通常通过大量文本数据进行训练，以理解、生成和处理人类语言。这些模型通常具有数亿到数百亿个参数，使其能够捕捉语言中的复杂模式和上下文关系。\n",
      "\n",
      "大语言模型的主要特点包括：\n",
      "\n",
      "1. **规模庞大**：大语言模型通常具有大量的参数，允许其学习更复杂的语言特征和关系。\n",
      "\n",
      "2. **预训练和微调**：这些模型通常经过预训练，使用海量的文本数据进行训练，然后可以通过微调来适应特定任务，如文本生成、翻译、问答等。\n",
      "\n",
      "3. **生成能力**：大语言模型不仅能够理解输入的文本，还可以生成连贯且上下文相关的文本输出。\n",
      "\n",
      "4. **多任务学习**：大语言模型能够在多个自然语言处理任务上表现良好，通常只需对特定任务进行少量的额外训练。\n",
      "\n",
      "5. **上下文理解**：这些模型能够捕捉长距离的依赖关系，理解上下文，从而更好地处理复杂的语言结构。\n",
      "\n",
      "一些著名的大语言模型包括OpenAI的GPT系列、Google的BERT和T5、以及Meta的LLaMA等。大语言模型在诸多应用领域中展现出强大的能力，包括聊天机器人、内容生成、自动摘要、情感分析等。\n"
     ]
    }
   ],
   "source": [
    "# 1、获取大模型\n",
    "from langchain_core.messages import HumanMessage, SystemMessage\n",
    "from langchain_core.output_parsers import StrOutputParser, XMLOutputParser\n",
    "\n",
    "import os\n",
    "import dotenv\n",
    "from langchain_core.utils import pre_init\n",
    "from langchain_openai import ChatOpenAI\n",
    "\n",
    "dotenv.load_dotenv()\n",
    "\n",
    "chat_model = ChatOpenAI(model=\"gpt-4o-mini\")\n",
    "\n",
    "# 2、调用大模型\n",
    "response = chat_model.invoke(\"什么是大语言模型？\")\n",
    "# print(type(response))   #AIMessage\n",
    "\n",
    "#3、如何获取一个字符串的输出结果呢？\n",
    "# 方式1：自己调用输出结果的content\n",
    "# print(response.content)\n",
    "\n",
    "# 方式2：使用StrOutputParser\n",
    "parser = StrOutputParser()\n",
    "str_response = parser.invoke(response)\n",
    "print(type(str_response))  #<class 'str'>\n",
    "print(str_response)"
   ]
  },
  {
   "cell_type": "code",
   "execution_count": 3,
   "id": "b902caa9",
   "metadata": {},
   "outputs": [
    {
     "name": "stdout",
     "output_type": "stream",
     "text": [
      "<class 'langchain_core.messages.ai.AIMessage'>\n",
      "content='大语言模型（Large Language Model, LLM）是一种基于深度学习的人工智能模型，专门用于理解和生成自然语言文本。这些模型通常由大量的参数构成，能够处理复杂的语言任务，如文本生成、翻译、问答、对话等。\\n\\n大语言模型的特点包括：\\n\\n1. **规模庞大**：大语言模型通常训练在海量的文本数据上，包含数亿到数千亿个参数。这使得它们能够捕捉复杂的语言模式和语义关系。\\n\\n2. **预训练与微调**：大语言模型通常采用预训练和微调的策略。首先在大规模数据上进行无监督预训练，然后在特定任务上进行有监督的微调，以提高其在特定应用中的表现。\\n\\n3. **上下文理解**：它们能够理解上下文，从而生成连贯且相关的文本。这使得它们在对话系统、写作助手等应用中表现出色。\\n\\n4. **多样性和灵活性**：大语言模型可以应用于多种自然语言处理任务，包括文本分类、情感分析、信息提取等。\\n\\n5. **生成能力**：除了理解文本，这些模型也能够生成高质量的文本，适用于创作、自动回复等场景。\\n\\n一些著名的大语言模型包括OpenAI的GPT系列、Google的BERT和T5、Meta的OPT等。这些模型在自然语言处理领域引发了广泛的研究和应用，推动了人工智能的发展。' additional_kwargs={'refusal': None} response_metadata={'token_usage': {'completion_tokens': 336, 'prompt_tokens': 13, 'total_tokens': 349, 'completion_tokens_details': {'accepted_prediction_tokens': 0, 'audio_tokens': 0, 'reasoning_tokens': 0, 'rejected_prediction_tokens': 0}, 'prompt_tokens_details': {'audio_tokens': 0, 'cached_tokens': 0}}, 'model_name': 'gpt-4o-mini-2024-07-18', 'system_fingerprint': 'fp_560af6e559', 'finish_reason': 'stop', 'logprobs': None} id='run--99c4f0cb-871e-4554-928e-44d9486050bd-0' usage_metadata={'input_tokens': 13, 'output_tokens': 336, 'total_tokens': 349, 'input_token_details': {'audio': 0, 'cache_read': 0}, 'output_token_details': {'audio': 0, 'reasoning': 0}}\n"
     ]
    }
   ],
   "source": [
    "# 1、获取大模型\n",
    "from langchain_core.messages import HumanMessage, SystemMessage\n",
    "from langchain_core.output_parsers import StrOutputParser, XMLOutputParser\n",
    "\n",
    "import os\n",
    "import dotenv\n",
    "from langchain_core.utils import pre_init\n",
    "from langchain_openai import ChatOpenAI\n",
    "\n",
    "dotenv.load_dotenv()\n",
    "\n",
    "chat_model = ChatOpenAI(model=\"gpt-4o-mini\")\n",
    "\n",
    "# 2、调用大模型\n",
    "response = chat_model.invoke(\"什么是大语言模型？\")\n",
    "print(type(response))   #AIMessage\n",
    "print(response)"
   ]
  },
  {
   "cell_type": "markdown",
   "id": "75ee6235",
   "metadata": {},
   "source": [
    "# 2. JsonOutputParser的使用"
   ]
  },
  {
   "cell_type": "code",
   "execution_count": 4,
   "id": "b7b80231",
   "metadata": {},
   "outputs": [
    {
     "name": "stdout",
     "output_type": "stream",
     "text": [
      "{'q': '人工智能用英文怎么说？', 'a': 'Artificial Intelligence'}\n"
     ]
    }
   ],
   "source": [
    "# 方式1 自己写提示词来得到json\n",
    "from langchain_core.output_parsers import JsonOutputParser\n",
    "from langchain_core.prompts import ChatPromptTemplate\n",
    "\n",
    "chat_model = ChatOpenAI(model=\"gpt-4o-mini\")\n",
    "\n",
    "chat_prompt_template = ChatPromptTemplate.from_messages([\n",
    "    (\"system\", \"你是一个靠谱的{role}\"),\n",
    "    (\"human\", \"{question}\")\n",
    "])\n",
    "\n",
    "# 正确的：\n",
    "prompt = chat_prompt_template.invoke(\n",
    "    input={\"role\": \"人工智能专家\", \"question\": \"人工智能用英文怎么说？问题用q表示，答案用a表示，返回一个JSON格式的数据\"})\n",
    "\n",
    "# 错误的：\n",
    "# prompt = chat_prompt_template.invoke(input={\"role\":\"人工智能专家\",\"question\":\"人工智能用英文怎么说？\"})\n",
    "\n",
    "response = chat_model.invoke(prompt)\n",
    "# print(response.content)\n",
    "\n",
    "# 获取一个JsonOutputParser的实例\n",
    "parser = JsonOutputParser()\n",
    "\n",
    "json_result = parser.invoke(response)\n",
    "print(json_result)"
   ]
  },
  {
   "cell_type": "code",
   "execution_count": 5,
   "id": "59800cb6",
   "metadata": {},
   "outputs": [
    {
     "name": "stdout",
     "output_type": "stream",
     "text": [
      "Return a JSON object.\n"
     ]
    }
   ],
   "source": [
    "parser = JsonOutputParser()\n",
    "print(parser.get_format_instructions())"
   ]
  },
  {
   "cell_type": "code",
   "execution_count": null,
   "id": "66265417",
   "metadata": {},
   "outputs": [
    {
     "name": "stdout",
     "output_type": "stream",
     "text": [
      "{'joke': '为什么鸡过马路？为了到对面去！'}\n"
     ]
    }
   ],
   "source": [
    "# 方法2， 使用 parser.get_format_instructions()方法本质是让模型按照指定的格式输出json\n",
    "from langchain_core.output_parsers import JsonOutputParser\n",
    "from langchain_core.prompts import PromptTemplate\n",
    "\n",
    "# 初始化语言模型\n",
    "chat_model = ChatOpenAI(model=\"gpt-4o-mini\")\n",
    "\n",
    "joke_query = \"告诉我一个笑话。\"\n",
    "\n",
    "# 定义Json解析器\n",
    "parser = JsonOutputParser()\n",
    "\n",
    "\n",
    "# 以promptTemplate 为例子\n",
    "prompt_template1 = PromptTemplate.from_template(\n",
    "    template=\"回答用户的查询\\n 满足的格式为{format_instructions}\\n 问题为{question}\\n\",\n",
    "    partial_variables={\"format_instructions\": parser.get_format_instructions()}\n",
    ")\n",
    "\n",
    "prompt = prompt_template1.invoke(input={\"question\": joke_query})\n",
    "response = chat_model.invoke(prompt)\n",
    "\n",
    "print(parser.invoke(response))"
   ]
  },
  {
   "cell_type": "code",
   "execution_count": 11,
   "id": "2d969be7",
   "metadata": {},
   "outputs": [
    {
     "name": "stdout",
     "output_type": "stream",
     "text": [
      "{'joke': '为什么数学书总是很忧伤？因为它有太多的问题！'}\n"
     ]
    }
   ],
   "source": [
    "# chain的写法\n",
    "from langchain_core.output_parsers import JsonOutputParser\n",
    "from langchain_core.prompts import PromptTemplate\n",
    "\n",
    "# 初始化语言模型\n",
    "chat_model = ChatOpenAI(model=\"gpt-4o-mini\")\n",
    "\n",
    "joke_query = \"告诉我一个笑话。\"\n",
    "\n",
    "# 定义Json解析器\n",
    "parser = JsonOutputParser()\n",
    "\n",
    "# 写法1\n",
    "# # 以promptTemplate 为例子\n",
    "prompt_template1 = PromptTemplate.from_template(\n",
    "    template=\"回答用户的查询\\n 满足的格式为{format_instructions}\\n 问题为{question}\\n\",\n",
    "    partial_variables={\"format_instructions\": parser.get_format_instructions()}\n",
    ")\n",
    "\n",
    "# prompt = prompt_template1.invoke(input={\"question\": joke_query})\n",
    "# response = chat_model.invoke(prompt)\n",
    "\n",
    "# print(parser.invoke(response))\n",
    "\n",
    "# 写法2 chain的写法\n",
    "chain = prompt_template1 | chat_model | parser\n",
    "json_result1 = chain.invoke(input={\"question\": joke_query})\n",
    "print(json_result1)"
   ]
  },
  {
   "cell_type": "markdown",
   "id": "f3608602",
   "metadata": {},
   "source": [
    "# 3. XMLOutputParser的使用"
   ]
  },
  {
   "cell_type": "code",
   "execution_count": null,
   "id": "8f58cebc",
   "metadata": {},
   "outputs": [
    {
     "name": "stdout",
     "output_type": "stream",
     "text": [
      "<class 'langchain_core.messages.ai.AIMessage'>\n",
      "周星驰是中国香港著名的演员、导演和编剧，以其独特的喜剧风格和幽默感而闻名。以下是他的几部经典电影记录：\n",
      "\n",
      "<movie>\n",
      "    <title>大话西游之月光宝盒</title>\n",
      "    <year>1995</year>\n",
      "    <description>这部电影融合了爱情与喜剧，通过西游记的故事背景，讲述了至尊宝与紫霞仙子的悲剧爱情故事，深刻探讨了时间与命运的主题。</description>\n",
      "</movie>\n",
      "\n",
      "<movie>\n",
      "    <title>喜剧之王</title>\n",
      "    <year>1999</year>\n",
      "    <description>影片讲述了一名怀揣演员梦想的小人物，通过不断努力与坚持，经历各种挫折与搞笑场景，最终实现梦想的励志故事。</description>\n",
      "</movie>\n",
      "\n",
      "<movie>\n",
      "    <title>少林足球</title>\n",
      "    <year>2001</year>\n",
      "    <description>这部电影将功夫与足球结合，通过一群少林寺僧人的搞笑故事，展示了团队合作与友谊的力量，成为了一部经典喜剧。</description>\n",
      "</movie>\n",
      "\n",
      "<movie>\n",
      "    <title>功夫</title>\n",
      "    <year>2004</year>\n",
      "    <description>影片以1930年代的上海为背景，讲述了一位小混混在寻找自我价值的过程中，如何通过学习功夫与坏人斗智斗勇，充满了喜剧与动作元素。</description>\n",
      "</movie>\n",
      "\n",
      "<movie>\n",
      "    <title>美人鱼</title>\n",
      "    <year>2016</year>\n",
      "    <description>这是一部关于人鱼与人类之间爱情故事的奇幻喜剧，结合了环保主题，展现了周星驰一贯的幽默风格与深刻的社会寓意。</description>\n",
      "</movie>\n",
      "\n"
     ]
    }
   ],
   "source": [
    "# 1. 自己模板中写明要用xml格式\n",
    "chat_model = ChatOpenAI(model=\"gpt-4o-mini\")\n",
    "\n",
    "actor_query = \"周星驰的简短电影记录\"\n",
    "response = chat_model.invoke(f\"请生成{actor_query}，将影片附在<movie></movie>标签中\")\n",
    "\n",
    "print(type(response))\n",
    "print(response.content)"
   ]
  },
  {
   "cell_type": "code",
   "execution_count": 13,
   "id": "e92ebd86",
   "metadata": {},
   "outputs": [
    {
     "name": "stdout",
     "output_type": "stream",
     "text": [
      "The output should be formatted as a XML file.\n",
      "1. Output should conform to the tags below.\n",
      "2. If tags are not given, make them on your own.\n",
      "3. Remember to always open and close all the tags.\n",
      "\n",
      "As an example, for the tags [\"foo\", \"bar\", \"baz\"]:\n",
      "1. String \"<foo>\n",
      "   <bar>\n",
      "      <baz></baz>\n",
      "   </bar>\n",
      "</foo>\" is a well-formatted instance of the schema.\n",
      "2. String \"<foo>\n",
      "   <bar>\n",
      "   </foo>\" is a badly-formatted instance.\n",
      "3. String \"<foo>\n",
      "   <tag>\n",
      "   </tag>\n",
      "</foo>\" is a badly-formatted instance.\n",
      "\n",
      "Here are the output tags:\n",
      "```\n",
      "None\n",
      "```\n"
     ]
    }
   ],
   "source": [
    "# 2. 使用 XMLOutputParser\n",
    "XML_parser = XMLOutputParser()\n",
    "print(XML_parser.get_format_instructions())"
   ]
  },
  {
   "cell_type": "code",
   "execution_count": 14,
   "id": "7d019d5e",
   "metadata": {},
   "outputs": [
    {
     "name": "stdout",
     "output_type": "stream",
     "text": [
      "```xml\n",
      "<电影记录>\n",
      "   <演员>\n",
      "      <名字>汤姆·汉克斯</名字>\n",
      "      <出生日期>1956-07-09</出生日期>\n",
      "      <国籍>美国</国籍>\n",
      "   </演员>\n",
      "   <电影作品>\n",
      "      <电影>\n",
      "         <标题>阿甘正传</标题>\n",
      "         <年份>1994</年份>\n",
      "         <类型>剧情/喜剧</类型>\n",
      "         <导演>罗伯特·泽米吉斯</导演>\n",
      "         <角色>阿甘</角色>\n",
      "      </电影>\n",
      "      <电影>\n",
      "         <标题>拯救大兵瑞恩</标题>\n",
      "         <年份>1998</年份>\n",
      "         <类型>战争/剧情</类型>\n",
      "         <导演>史蒂文·斯皮尔伯格</导演>\n",
      "         <角色>米勒上尉</角色>\n",
      "      </电影>\n",
      "      <电影>\n",
      "         <标题>费城故事</标题>\n",
      "         <年份>1993</年份>\n",
      "         <类型>剧情</类型>\n",
      "         <导演>乔纳森·德米</导演>\n",
      "         <角色>安德鲁·贝克特</角色>\n",
      "      </电影>\n",
      "      <电影>\n",
      "         <标题>云图</标题>\n",
      "         <年份>2012</年份>\n",
      "         <类型>科幻/剧情</类型>\n",
      "         <导演>拉娜·沃卓斯基, 利莉·沃卓斯基</导演>\n",
      "         <角色>多个角色</角色>\n",
      "      </电影>\n",
      "   </电影作品>\n",
      "</电影记录>\n",
      "```\n"
     ]
    }
   ],
   "source": [
    "# 1.导入相关包\n",
    "from langchain_core.output_parsers import XMLOutputParser\n",
    "from langchain_core.prompts import PromptTemplate\n",
    "from langchain_openai import ChatOpenAI\n",
    "\n",
    "# 2. 初始化语言模型\n",
    "chat_model = ChatOpenAI(model=\"gpt-4o-mini\")\n",
    "\n",
    "# 3.测试模型的xml解析效果\n",
    "actor_query = \"生成汤姆·汉克斯的简短电影记录,使用中文回复\"\n",
    "\n",
    "# 4.定义XMLOutputParser对象\n",
    "parser = XMLOutputParser()\n",
    "\n",
    "# 5. 生成提示词模板\n",
    "prompt_template1 = PromptTemplate.from_template(\n",
    "    template=\"用户的问题：{query}\\n使用的格式：{format_instructions}\"\n",
    ")\n",
    "\n",
    "prompt_template2 = prompt_template1.partial(format_instructions=parser.get_format_instructions())\n",
    "\n",
    "\n",
    "response = chat_model.invoke(prompt_template2.invoke(input={\"query\": actor_query}))\n",
    "print(response.content)\n"
   ]
  },
  {
   "cell_type": "code",
   "execution_count": 15,
   "id": "cc5916cd",
   "metadata": {},
   "outputs": [
    {
     "name": "stdout",
     "output_type": "stream",
     "text": [
      "{'电影记录': [{'演员': [{'名字': '汤姆·汉克斯'}, {'出生日期': '1956-07-09'}, {'国籍': '美国'}]}, {'电影作品': [{'电影': [{'标题': '阿甘正传'}, {'年份': '1994'}, {'类型': '剧情/喜剧'}, {'导演': '罗伯特·泽米吉斯'}, {'角色': '阿甘'}]}, {'电影': [{'标题': '拯救大兵瑞恩'}, {'年份': '1998'}, {'类型': '战争/剧情'}, {'导演': '史蒂文·斯皮尔伯格'}, {'角色': '米勒上尉'}]}, {'电影': [{'标题': '费城故事'}, {'年份': '1993'}, {'类型': '剧情'}, {'导演': '乔纳森·德米'}, {'角色': '安德鲁·贝克特'}]}, {'电影': [{'标题': '云图'}, {'年份': '2012'}, {'类型': '科幻/剧情'}, {'导演': '拉娜·沃卓斯基, 利莉·沃卓斯基'}, {'角色': '多个角色'}]}]}]}\n"
     ]
    }
   ],
   "source": [
    "xml_result = parser.invoke(response)\n",
    "print(xml_result)"
   ]
  },
  {
   "cell_type": "code",
   "execution_count": 16,
   "id": "a7765045",
   "metadata": {},
   "outputs": [
    {
     "name": "stdout",
     "output_type": "stream",
     "text": [
      "Your response should be a list of comma separated values, eg: `foo, bar, baz` or `foo,bar,baz`\n",
      "['大象', '猩猩', '狮子']\n",
      "<class 'list'>\n"
     ]
    }
   ],
   "source": [
    "# 4. CommaSepaatedListOutputParser\n",
    "from langchain_core.output_parsers import CommaSeparatedListOutputParser\n",
    "\n",
    "output_parser = CommaSeparatedListOutputParser()\n",
    "\n",
    "# 返回一些指令或模板，这些指令告诉系统如何解析或格式化输出数据\n",
    "format_instructions = output_parser.get_format_instructions()\n",
    "print(format_instructions)\n",
    "\n",
    "messages = \"大象,猩猩,狮子\"\n",
    "result = output_parser.parse(messages)\n",
    "print(result)\n",
    "print(type(result))"
   ]
  },
  {
   "cell_type": "code",
   "execution_count": 17,
   "id": "fd6158a5",
   "metadata": {},
   "outputs": [
    {
     "name": "stdout",
     "output_type": "stream",
     "text": [
      "['1. 动作片: 《速度与激情》，《复仇者联盟》，《黑豹》，《夺宝奇兵》，《终结者》', '2. 爱情片: 《泰坦尼克号》，《罗密欧与朱丽叶》，《爱在黎明破晓前》，《诺丁山》，《怦然心动》', '3. 科幻片: 《星际穿越》，《银翼杀手2049》，《盗梦空间》，《黑客帝国》，《异形》', '4. 动画片: 《冰雪奇缘》，《玩具总动员》，《海洋奇缘》，《神偷奶爸》，《大鱼海棠》', '5. 恐怖片: 《招魂》，《鬼影实录》，《使徒行者》，《潜伏》，《异度空间》']\n",
      "<class 'list'>\n"
     ]
    }
   ],
   "source": [
    "from langchain_core.prompts import PromptTemplate\n",
    "from langchain_openai import ChatOpenAI\n",
    "from langchain.output_parsers import CommaSeparatedListOutputParser\n",
    "\n",
    "# 初始化语言模型\n",
    "chat_model = ChatOpenAI(model=\"gpt-4o-mini\")\n",
    "\n",
    "# 创建解析器\n",
    "output_parser = CommaSeparatedListOutputParser()\n",
    "\n",
    "# 创建LangChain提示模板\n",
    "chat_prompt = PromptTemplate.from_template(\n",
    "    \"生成5个关于{text}的列表.\\n\\n{format_instructions}\",\n",
    "    partial_variables={\n",
    "    \"format_instructions\": output_parser.get_format_instructions()\n",
    "    })\n",
    "\n",
    "# 提示模板与输出解析器传递输出\n",
    "# chat_prompt = chat_prompt.partial(format_instructions=output_parser.get_format_instructions())\n",
    "\n",
    "# 将提示和模型合并以进行调用\n",
    "chain = chat_prompt | chat_model | output_parser\n",
    "res = chain.invoke({\"text\": \"电影\"})\n",
    "print(res)\n",
    "print(type(res))"
   ]
  },
  {
   "cell_type": "markdown",
   "id": "c88d4dd5",
   "metadata": {},
   "source": [
    "# 5、日期解析器 DatetimeOutputParser"
   ]
  },
  {
   "cell_type": "code",
   "execution_count": 18,
   "id": "8944e97c",
   "metadata": {},
   "outputs": [
    {
     "name": "stdout",
     "output_type": "stream",
     "text": [
      "Write a datetime string that matches the following pattern: '%Y-%m-%dT%H:%M:%S.%fZ'.\n",
      "\n",
      "Examples: 0719-02-09T13:36:48.719769Z, 1239-07-24T07:59:38.988495Z, 1616-05-31T17:40:54.349075Z\n",
      "\n",
      "Return ONLY this string, no other words!\n"
     ]
    }
   ],
   "source": [
    "from langchain.output_parsers import DatetimeOutputParser\n",
    "\n",
    "output_parser = DatetimeOutputParser()\n",
    "\n",
    "format_instructions = output_parser.get_format_instructions()\n",
    "print(format_instructions)"
   ]
  },
  {
   "cell_type": "code",
   "execution_count": 19,
   "id": "39e52fab",
   "metadata": {},
   "outputs": [
    {
     "name": "stdout",
     "output_type": "stream",
     "text": [
      "1949-10-01 00:00:00\n",
      "<class 'datetime.datetime'>\n"
     ]
    }
   ],
   "source": [
    "from langchain_openai import ChatOpenAI\n",
    "from langchain.prompts.chat import HumanMessagePromptTemplate\n",
    "from langchain_core.prompts import ChatPromptTemplate\n",
    "from langchain.output_parsers import DatetimeOutputParser\n",
    "\n",
    "chat_model = ChatOpenAI(model=\"gpt-4o-mini\")\n",
    "\n",
    "\n",
    "chat_prompt = ChatPromptTemplate.from_messages([\n",
    "    (\"system\",\"{format_instructions}\"),\n",
    "    (\"human\", \"{request}\")\n",
    "])\n",
    "\n",
    "output_parser = DatetimeOutputParser()\n",
    "\n",
    "# 方式1：\n",
    "# model_request = chat_prompt.format_messages(\n",
    "#     request=\"中华人民共和国是什么时候成立的\",\n",
    "#     format_instructions=output_parser.get_format_instructions()\n",
    "# )\n",
    "\n",
    "# response = chat_model.invoke(model_request)\n",
    "# result = output_parser.invoke(response)\n",
    "# print(result)\n",
    "# print(type(result))\n",
    "\n",
    "# 方式2：\n",
    "chain = chat_prompt | chat_model | output_parser\n",
    "resp = chain.invoke({\"request\":\"中华人民共和国是什么时候成立的\",\n",
    "                     \"format_instructions\":output_parser.get_format_instructions()})\n",
    "print(resp)\n",
    "print(type(resp))"
   ]
  },
  {
   "cell_type": "code",
   "execution_count": null,
   "id": "a15e4b1b",
   "metadata": {},
   "outputs": [],
   "source": []
  }
 ],
 "metadata": {
  "kernelspec": {
   "display_name": "wen",
   "language": "python",
   "name": "python3"
  },
  "language_info": {
   "codemirror_mode": {
    "name": "ipython",
    "version": 3
   },
   "file_extension": ".py",
   "mimetype": "text/x-python",
   "name": "python",
   "nbconvert_exporter": "python",
   "pygments_lexer": "ipython3",
   "version": "3.12.9"
  }
 },
 "nbformat": 4,
 "nbformat_minor": 5
}
