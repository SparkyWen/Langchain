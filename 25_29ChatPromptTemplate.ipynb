{
 "cells": [
  {
   "cell_type": "markdown",
   "id": "b1ca6418",
   "metadata": {},
   "source": [
    "# 1. 提示词模板之ChatPromptTemplate使用"
   ]
  },
  {
   "cell_type": "code",
   "execution_count": null,
   "id": "22f81d81",
   "metadata": {},
   "outputs": [],
   "source": [
    "# 1. 实例化方式，两种方式，构造方法和from_message()\n",
    "# 2. 调用提示词模板的4个方法 format / invoke / format_message / format_prompt()\n",
    "# 3. 更丰富的实例化参数类型\n",
    "# 4. 结合LLM\n",
    "# 5. 插入消息列表：MessagePlaceholder"
   ]
  },
  {
   "cell_type": "markdown",
   "id": "76a81714",
   "metadata": {},
   "source": [
    "### 1. 实例化方式，两种方式，构造方法和from_message()"
   ]
  },
  {
   "cell_type": "code",
   "execution_count": null,
   "id": "7c7c5f27",
   "metadata": {},
   "outputs": [
    {
     "name": "stdout",
     "output_type": "stream",
     "text": [
      "messages=[SystemMessage(content='你是一个AI助手，你的名字叫小文', additional_kwargs={}, response_metadata={}), HumanMessage(content='我的问题是1+2*3=?', additional_kwargs={}, response_metadata={})]\n",
      "<class 'langchain_core.prompt_values.ChatPromptValue'>\n"
     ]
    }
   ],
   "source": [
    "# 1. 构造方法\n",
    "from langchain_core.prompts import ChatPromptTemplate\n",
    "# 创建实例\n",
    "chat_prompt_template = ChatPromptTemplate(messages=[\n",
    "  (\"system\", \"你是一个AI助手，你的名字叫{name}\"),\n",
    "  (\"human\", \"我的问题是{question}\")\n",
    "  ], \n",
    "  # input_variables = [\"name\", \"question\"]\n",
    ")\n",
    "\n",
    "\n",
    "response = chat_prompt_template.invoke(input={\"name\":\"小文\", \"question\":\"1+2*3=?\"})\n",
    "print(response)\n",
    "print(type(response))"
   ]
  },
  {
   "cell_type": "code",
   "execution_count": 4,
   "metadata": {},
   "outputs": [
    {
     "name": "stdout",
     "output_type": "stream",
     "text": [
      "messages=[SystemMessage(content='你是一个AI助手，你的名字叫小文', additional_kwargs={}, response_metadata={}), HumanMessage(content='我的问题是1+2*3=?', additional_kwargs={}, response_metadata={})]\n",
      "<class 'langchain_core.prompt_values.ChatPromptValue'>\n"
     ]
    }
   ],
   "source": [
    "# 2. from_message()\n",
    "\n",
    "from langchain_core.prompts import ChatPromptTemplate\n",
    "# 创建实例\n",
    "# chat_prompt_template = ChatPromptTemplate(messages=[\n",
    "#   (\"system\", \"你是一个AI助手，你的名字叫{name}\"),\n",
    "#   (\"human\", \"我的问题是{question}\")\n",
    "#   ], \n",
    "#   # input_variables = [\"name\", \"question\"]\n",
    "# )\n",
    "\n",
    "chat_prompt_template = ChatPromptTemplate.from_messages([\n",
    "  (\"system\", \"你是一个AI助手，你的名字叫{name}\"),\n",
    "  (\"human\", \"我的问题是{question}\")\n",
    "])\n",
    "\n",
    "\n",
    "response = chat_prompt_template.invoke(input={\"name\":\"小文\", \"question\":\"1+2*3=?\"})\n",
    "print(response)\n",
    "print(type(response))"
   ]
  },
  {
   "cell_type": "markdown",
   "id": "b8aaa722",
   "metadata": {},
   "source": [
    "# 2. 调提示词4种方法"
   ]
  },
  {
   "cell_type": "code",
   "execution_count": null,
   "id": "8ab688c5",
   "metadata": {},
   "outputs": [],
   "source": [
    "# 1. invoke"
   ]
  },
  {
   "cell_type": "code",
   "execution_count": 5,
   "id": "c883eca9",
   "metadata": {},
   "outputs": [
    {
     "name": "stdout",
     "output_type": "stream",
     "text": [
      "System: 你是一个AI助手，你的名字叫小智\n",
      "Human: 我的问题是1 + 2 * 3 = ？\n",
      "<class 'str'>\n"
     ]
    }
   ],
   "source": [
    "# 2. format\n",
    "from langchain_core.prompts import ChatPromptTemplate\n",
    "\n",
    "# 创建实例\n",
    "\n",
    "chat_prompt_template = ChatPromptTemplate.from_messages([\n",
    "    (\"system\", \"你是一个AI助手，你的名字叫{name}\"),\n",
    "    (\"human\", \"我的问题是{question}\")\n",
    "])\n",
    "\n",
    "response = chat_prompt_template.format(name=\"小智\", question=\"1 + 2 * 3 = ？\")\n",
    "print(response)\n",
    "print(type(response))"
   ]
  },
  {
   "cell_type": "code",
   "execution_count": null,
   "id": "4347d2cd",
   "metadata": {},
   "outputs": [
    {
     "name": "stdout",
     "output_type": "stream",
     "text": [
      "[SystemMessage(content='你是一个AI助手，你的名字叫小智', additional_kwargs={}, response_metadata={}), HumanMessage(content='我的问题是1 + 2 * 3 = ？', additional_kwargs={}, response_metadata={})]\n",
      "<class 'list'>\n",
      "[SystemMessage(content='你是一个AI助手，你的名字叫小智', additional_kwargs={}, response_metadata={}), HumanMessage(content='我的问题是1 + 2 * 3 = ？', additional_kwargs={}, response_metadata={})]\n",
      "<class 'list'>\n"
     ]
    }
   ],
   "source": [
    "# format_message()\n",
    "from langchain_core.prompts import ChatPromptTemplate\n",
    "\n",
    "# 创建实例\n",
    "\n",
    "chat_prompt_template = ChatPromptTemplate.from_messages([\n",
    "    (\"system\", \"你是一个AI助手，你的名字叫{name}\"),\n",
    "    (\"human\", \"我的问题是{question}\")\n",
    "])\n",
    "\n",
    "response = chat_prompt_template.format_messages(name=\"小智\", question=\"1 + 2 * 3 = ？\")\n",
    "print(response)\n",
    "print(type(response))  #from langchain_core.prompts import ChatPromptTemplate\n",
    "\n",
    "# 创建实例\n",
    "\n",
    "chat_prompt_template = ChatPromptTemplate.from_messages([\n",
    "    (\"system\", \"你是一个AI助手，你的名字叫{name}\"),\n",
    "    (\"human\", \"我的问题是{question}\")\n",
    "])\n",
    "\n",
    "response = chat_prompt_template.format_messages(name=\"小智\", question=\"1 + 2 * 3 = ？\")\n",
    "print(response)\n",
    "print(type(response))  #<class 'list'>"
   ]
  },
  {
   "cell_type": "code",
   "execution_count": 7,
   "id": "3372a307",
   "metadata": {},
   "outputs": [
    {
     "name": "stdout",
     "output_type": "stream",
     "text": [
      "content='你是一个AI助手，你的名字叫小智' additional_kwargs={} response_metadata={}\n",
      "content='我的问题是1 + 2 * 3 = ？' additional_kwargs={} response_metadata={}\n"
     ]
    }
   ],
   "source": [
    "for _ in response:\n",
    "  print(_)"
   ]
  },
  {
   "cell_type": "code",
   "execution_count": 8,
   "id": "57c71a78",
   "metadata": {},
   "outputs": [
    {
     "name": "stdout",
     "output_type": "stream",
     "text": [
      "messages=[SystemMessage(content='你是一个AI助手，你的名字叫小智', additional_kwargs={}, response_metadata={}), HumanMessage(content='我的问题是1 + 2 * 3 = ？', additional_kwargs={}, response_metadata={})]\n",
      "<class 'langchain_core.prompt_values.ChatPromptValue'>\n"
     ]
    }
   ],
   "source": [
    "# 4. format_prompt\n",
    "from langchain_core.prompts import ChatPromptTemplate\n",
    "\n",
    "# 创建实例\n",
    "\n",
    "chat_prompt_template = ChatPromptTemplate.from_messages([\n",
    "    (\"system\", \"你是一个AI助手，你的名字叫{name}\"),\n",
    "    (\"human\", \"我的问题是{question}\")\n",
    "])\n",
    "\n",
    "response = chat_prompt_template.format_prompt(name=\"小智\", question=\"1 + 2 * 3 = ？\")\n",
    "print(response)\n",
    "print(type(response))  #<class 'langchain_core.prompt_values.ChatPromptValue'>"
   ]
  },
  {
   "cell_type": "code",
   "execution_count": null,
   "id": "687d589b",
   "metadata": {},
   "outputs": [],
   "source": [
    "from langchain_core.prompts import ChatPromptTemplate\n",
    "\n",
    "# 创建实例\n",
    "\n",
    "chat_prompt_template = ChatPromptTemplate.from_messages([\n",
    "    (\"system\", \"你是一个AI助手，你的名字叫{name}\"),\n",
    "    (\"human\", \"我的问题是{question}\")\n",
    "])\n",
    "\n",
    "# response = chat_prompt_template.format_prompt(name=\"小智\", question=\"1 + 2 * 3 = ？\")\n",
    "response = chat_prompt_template.invoke({\"name\": \"小智\", \"question\": \"1 + 2 * 3 = ？\"})\n",
    "\n",
    "# 将ChatPromptValue类型转换为消息构成的list\n",
    "response_messages = response.to_messages()\n",
    "# print(response_messages)\n",
    "# print(type(response_messages))\n",
    "\n",
    "# 将ChatPromptValue类型转换为字符串类型\n",
    "response_to_string = response.to_string()\n",
    "print(response_to_string)\n",
    "print(type(response_to_string))"
   ]
  },
  {
   "cell_type": "markdown",
   "id": "211cdf90",
   "metadata": {},
   "source": [
    "# 3. 更丰富的实例化参数类型"
   ]
  },
  {
   "cell_type": "code",
   "execution_count": null,
   "id": "11c7697b",
   "metadata": {},
   "outputs": [],
   "source": [
    "from langchain_core.prompts import ChatPromptTemplate\n",
    "\n",
    "# 创建实例\n",
    "#第1种方式\n",
    "chat_prompt_template1 = ChatPromptTemplate(\n",
    "    messages=[\n",
    "        (\"system\", \"你是一个AI助手，你的名字叫{name}\"),\n",
    "        (\"human\", \"我的问题是{question}\")\n",
    "    ]\n",
    ")\n",
    "#第2种方式\n",
    "chat_prompt_template2 = ChatPromptTemplate.from_messages([\n",
    "    (\"system\", \"你是一个AI助手，你的名字叫{name}\"),\n",
    "    (\"human\", \"我的问题是{question}\")\n",
    "])\n",
    "\n",
    "#\n",
    "response = chat_prompt_template1.invoke({\"name\": \"小智\", \"question\": \"1 + 2 * 3 = ？\"})\n"
   ]
  },
  {
   "cell_type": "code",
   "execution_count": 10,
   "id": "792a6b02",
   "metadata": {},
   "outputs": [
    {
     "name": "stdout",
     "output_type": "stream",
     "text": [
      "messages=[HumanMessage(content='我的问题是1 + 2 * 3 = ？', additional_kwargs={}, response_metadata={})]\n"
     ]
    }
   ],
   "source": [
    "# 2. 字符串\n",
    "from langchain_core.prompts import ChatPromptTemplate\n",
    "\n",
    "# 创建实例\n",
    "chat_prompt_template = ChatPromptTemplate.from_messages([\n",
    "    \"我的问题是{question}\"  #默认的角色是：human !\n",
    "])\n",
    "\n",
    "#\n",
    "response = chat_prompt_template.invoke(input={\"question\": \"1 + 2 * 3 = ？\"})\n",
    "print(response)"
   ]
  },
  {
   "cell_type": "code",
   "execution_count": null,
   "id": "a8ff00b4",
   "metadata": {},
   "outputs": [
    {
     "name": "stdout",
     "output_type": "stream",
     "text": [
      "messages=[SystemMessage(content='我是一个人工智能助手，我的名字叫小智', additional_kwargs={}, response_metadata={}), HumanMessage(content='我的问题是1 + 2 * 3 = ？', additional_kwargs={}, response_metadata={})]\n"
     ]
    }
   ],
   "source": [
    "# 3. 字典类型\n",
    "from langchain_core.prompts import ChatPromptTemplate\n",
    "\n",
    "# 创建实例\n",
    "chat_prompt_template = ChatPromptTemplate.from_messages([\n",
    "    {\"role\": \"system\", \"content\": \"我是一个人工智能助手，我的名字叫{name}\"},\n",
    "    {\"role\": \"human\", \"content\": \"我的问题是{question}\"},\n",
    "])\n",
    "\n",
    "response = chat_prompt_template.invoke({\"name\": \"小智\", \"question\": \"1 + 2 * 3 = ？\"})\n",
    "print(response)"
   ]
  },
  {
   "cell_type": "code",
   "execution_count": 12,
   "id": "cb9554be",
   "metadata": {},
   "outputs": [
    {
     "name": "stdout",
     "output_type": "stream",
     "text": [
      "messages=[SystemMessage(content='我是一个人工智能助手，我的名字叫{name}', additional_kwargs={}, response_metadata={}), HumanMessage(content='我的问题是{question}', additional_kwargs={}, response_metadata={})]\n"
     ]
    }
   ],
   "source": [
    "# 4. 消息类型\n",
    "from langchain_core.messages import SystemMessage, HumanMessage\n",
    "from langchain_core.prompts import ChatPromptTemplate\n",
    "\n",
    "# 创建实例\n",
    "chat_prompt_template = ChatPromptTemplate.from_messages([\n",
    "    SystemMessage(content=\"我是一个人工智能助手，我的名字叫{name}\"),\n",
    "    HumanMessage(content=\"我的问题是{question}\")\n",
    "])\n",
    "\n",
    "#\n",
    "# response = chat_prompt_template.invoke({\"name\":\"小智\", \"question\":\"1 + 2 * 3 = ？\"})\n",
    "response = chat_prompt_template.invoke({})\n",
    "print(response)"
   ]
  },
  {
   "cell_type": "code",
   "execution_count": null,
   "id": "ec0da717",
   "metadata": {},
   "outputs": [],
   "source": [
    "# 5. Chat提示词模板类型\n",
    "from langchain_core.prompts import ChatPromptTemplate\n",
    "\n",
    "# 使用 BaseChatPromptTemplate（嵌套的 ChatPromptTemplate）\n",
    "nested_prompt_template1 = ChatPromptTemplate.from_messages([\n",
    "    (\"system\", \"我是一个人工智能助手，我的名字叫{name}\")\n",
    "])\n",
    "nested_prompt_template2 = ChatPromptTemplate.from_messages([\n",
    "    (\"human\", \"很高兴认识你,我的问题是{question}\")\n",
    "])\n",
    "\n",
    "prompt_template = ChatPromptTemplate.from_messages([\n",
    "    nested_prompt_template1,\n",
    "    nested_prompt_template2\n",
    "])\n",
    "\n",
    "prompt_template.format_messages(name=\"小智\", question=\"你为什么这么帅？\")"
   ]
  },
  {
   "cell_type": "code",
   "execution_count": 13,
   "id": "27056383",
   "metadata": {},
   "outputs": [
    {
     "name": "stdout",
     "output_type": "stream",
     "text": [
      "[SystemMessage(content='你是一个专家物理学家', additional_kwargs={}, response_metadata={}), HumanMessage(content='给我解释相对论，用浅显易懂的语言', additional_kwargs={}, response_metadata={})]\n"
     ]
    }
   ],
   "source": [
    "# 6. 消息提示词模板类型\n",
    "# 导入聊天消息类模板\n",
    "from langchain_core.prompts import ChatPromptTemplate, HumanMessagePromptTemplate, SystemMessagePromptTemplate\n",
    "\n",
    "# 创建消息模板\n",
    "system_template = \"你是一个专家{role}\"\n",
    "system_message_prompt = SystemMessagePromptTemplate.from_template(system_template)\n",
    "\n",
    "human_template = \"给我解释{concept}，用浅显易懂的语言\"\n",
    "human_message_prompt = HumanMessagePromptTemplate.from_template(human_template)\n",
    "\n",
    "# 组合成聊天提示模板\n",
    "chat_prompt = ChatPromptTemplate.from_messages([\n",
    "    system_message_prompt, human_message_prompt\n",
    "])\n",
    "\n",
    "# 格式化提示\n",
    "formatted_messages = chat_prompt.format_messages(\n",
    "    role=\"物理学家\",\n",
    "    concept=\"相对论\"\n",
    ")\n",
    "print(formatted_messages)"
   ]
  },
  {
   "cell_type": "code",
   "execution_count": null,
   "id": "f2cac0d3",
   "metadata": {},
   "outputs": [],
   "source": []
  }
 ],
 "metadata": {
  "kernelspec": {
   "display_name": "wen",
   "language": "python",
   "name": "python3"
  },
  "language_info": {
   "codemirror_mode": {
    "name": "ipython",
    "version": 3
   },
   "file_extension": ".py",
   "mimetype": "text/x-python",
   "name": "python",
   "nbconvert_exporter": "python",
   "pygments_lexer": "ipython3",
   "version": "3.12.9"
  }
 },
 "nbformat": 4,
 "nbformat_minor": 5
}
